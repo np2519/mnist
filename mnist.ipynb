{
 "cells": [
  {
   "cell_type": "markdown",
   "metadata": {},
   "source": [
    "### MNIST Digit Classification Example\n",
    "MNIST data source was taken from ... \\\n",
    "https://www.kaggle.com/datasets/oddrationale/mnist-in-csv <br />\n",
    "https://git-disl.github.io/GTDLBench/datasets/mnist_datasets/ <br />\n",
    "https://pjreddie.com/projects/mnist-in-csv/\n",
    "\n",
    "The mnist_train.csv file contains the 60,000 training examples and labels. The mnist_test.csv contains 10,000 test examples and labels. Each row consists of 785 values: the first value is the label (a number from 0 to 9) and the remaining 784 values are the pixel values (a number from 0 to 255). \n",
    "\n",
    "The format is \\\n",
    "label, pix-11, pix-12, pix-13, ..."
   ]
  },
  {
   "cell_type": "code",
   "execution_count": 95,
   "metadata": {},
   "outputs": [],
   "source": [
    "import numpy as np \n",
    "import csv\n",
    "\n",
    "def image_loader(filename, image, label): \n",
    "    with open(filename) as f:\n",
    "        csv_reader = csv.reader(f, delimiter=',')\n",
    "        for id, line in enumerate(csv_reader):\n",
    "            i, j = 0, 0\n",
    "            label[id] = line[0]\n",
    "\n",
    "            i, j, count = (0, 0, 0)\n",
    "            for pixel in line[1:]:\n",
    "                i = int(count/28)\n",
    "                j = count%28\n",
    "                count += 1\n",
    "                image[id, i, j] = pixel\n",
    "\n",
    "train_images = np.empty((60000,28,28))\n",
    "train_labels = np.empty(60000)\n",
    "\n",
    "test_images = np.empty((10000,28,28))\n",
    "test_labels = np.empty(10000)\n",
    "\n",
    "image_loader('mnist_train.csv', train_images, train_labels)\n",
    "image_loader('mnist_test.csv', test_images, test_labels)"
   ]
  },
  {
   "cell_type": "code",
   "execution_count": 96,
   "metadata": {},
   "outputs": [
    {
     "name": "stdout",
     "output_type": "stream",
     "text": [
      "(10000,) (10000, 28, 28)\n",
      "(60000,) (60000, 28, 28)\n",
      "5.0\n"
     ]
    },
    {
     "data": {
      "image/png": "[encoded data removed]",
      "text/plain": [
       "<Figure size 640x480 with 1 Axes>"
      ]
     },
     "metadata": {},
     "output_type": "display_data"
    }
   ],
   "source": [
    "#test data \n",
    "import matplotlib.pyplot as plt\n",
    "\n",
    "print(test_labels.shape, test_images.shape)\n",
    "print(train_labels.shape, train_images.shape)\n",
    "\n",
    "# plt.imshow(test_images[1998], cmap='gray', interpolation='none')\n",
    "plt.imshow(train_images[0], cmap='gray', interpolation='none')\n",
    "print(train_labels[0])\n"
   ]
  },
  {
   "cell_type": "markdown",
   "metadata": {},
   "source": [
    "#### Normalization"
   ]
  },
  {
   "cell_type": "code",
   "execution_count": 97,
   "metadata": {},
   "outputs": [
    {
     "name": "stdout",
     "output_type": "stream",
     "text": [
      "mean = 33.32, std = 78.57\n"
     ]
    }
   ],
   "source": [
    "#normalization \n",
    "import torch\n",
    "x_train = torch.tensor(train_images.reshape(60000,28*28), dtype=torch.float32)\n",
    "mean = torch.mean(x_train).item()\n",
    "std = torch.std(x_train).item()\n",
    "print(f'mean = {mean:0.2f}, std = {std:0.2f}')\n",
    "\n",
    "x_test = torch.tensor(test_images.reshape(10000,28*28), dtype=torch.float32)\n",
    "\n",
    "x_train = (x_train - mean)/std\n",
    "x_test = (x_test - mean)/std"
   ]
  },
  {
   "cell_type": "markdown",
   "metadata": {},
   "source": [
    "#### One-hot encode "
   ]
  },
  {
   "cell_type": "code",
   "execution_count": 98,
   "metadata": {},
   "outputs": [],
   "source": [
    "#one-hot endcode\n",
    "y_train = torch.zeros((60000, 10))\n",
    "y_test = torch.zeros((10000, 10))\n",
    "\n",
    "for index, value in enumerate(train_labels):\n",
    "    y_train[index, int(value)] = 1\n",
    "\n",
    "for index, value in enumerate(test_labels):\n",
    "    y_test[index, int(value)] = 1"
   ]
  },
  {
   "cell_type": "markdown",
   "metadata": {},
   "source": [
    "#### Fully connected network\n",
    "\n",
    "input = 28*28 pixels = 784 linear inputs\\\n",
    "layer1 - fully connects 784 inputs to 25 neurons, activatation function = tanh\\\n",
    "layer2 - fully connects 25 outputs from layer1 to 10 neurons, activation function = sigmoid "
   ]
  },
  {
   "cell_type": "code",
   "execution_count": 118,
   "metadata": {},
   "outputs": [
    {
     "name": "stdout",
     "output_type": "stream",
     "text": [
      "tensor([0.4752, 0.4598, 0.4717, 0.4128, 0.5320, 0.5579, 0.6189, 0.6523, 0.5305,\n",
      "        0.5826], grad_fn=<SigmoidBackward0>)\n",
      "tensor([0., 0., 0., 0., 0., 1., 0., 0., 0., 0.])\n",
      "tensor([0.4752, 0.4598, 0.4717, 0.4128, 0.5320, 0.5579, 0.6189, 0.6523, 0.5305,\n",
      "        0.5826])\n",
      "7\n"
     ]
    }
   ],
   "source": [
    "#neural network model\n",
    "import torch.nn as nn\n",
    "\n",
    "class Mnist(nn.Module):\n",
    "    def __init__(self):\n",
    "        super().__init__()\n",
    "\n",
    "        self.linear = nn.Sequential(\n",
    "            nn.Linear(784,25),\n",
    "            nn.Tanh(),\n",
    "            nn.Linear(25,10),\n",
    "            nn.Sigmoid()\n",
    "        )\n",
    "\n",
    "    def forward(self, x):\n",
    "        return self.linear(x)\n",
    "    \n",
    "def data_gen(x_train, y_train):\n",
    "    index = list(range(len(x_train)))\n",
    "    np.random.shuffle(index)\n",
    "    for i in index:\n",
    "        yield x_train[i], y_train[i]\n",
    "\n",
    "m = Mnist()\n",
    "y = m(x_train[0])\n",
    "print(y)\n",
    "print(y_train[0])\n",
    "\n",
    "print(y.data)\n",
    "_, indice = torch.max(y.data, 0)\n",
    "print(indice.item())\n",
    "# print(y.argmax().item(), y_train[0].argmax().item())"
   ]
  },
  {
   "cell_type": "markdown",
   "metadata": {},
   "source": [
    "#### Training"
   ]
  },
  {
   "cell_type": "code",
   "execution_count": 100,
   "metadata": {},
   "outputs": [
    {
     "name": "stdout",
     "output_type": "stream",
     "text": [
      "Mnist(\n",
      "  (linear): Sequential(\n",
      "    (0): Linear(in_features=784, out_features=25, bias=True)\n",
      "    (1): Tanh()\n",
      "    (2): Linear(in_features=25, out_features=10, bias=True)\n",
      "    (3): Sigmoid()\n",
      "  )\n",
      ")\n",
      "\n",
      "----------------------------------------------------------------------------------------------------\n",
      "\n",
      "Parameter containing:\n",
      "tensor([[-0.0455, -0.0809, -0.0828,  ...,  0.0031, -0.0396,  0.0880],\n",
      "        [ 0.0806,  0.0200, -0.0025,  ..., -0.0826, -0.0461,  0.0198],\n",
      "        [ 0.0318, -0.0005,  0.0114,  ..., -0.0606,  0.0202,  0.0560],\n",
      "        ...,\n",
      "        [-0.0571,  0.0362, -0.0722,  ..., -0.0969, -0.0465,  0.0318],\n",
      "        [-0.0517,  0.0255, -0.0736,  ...,  0.0565, -0.0730, -0.0518],\n",
      "        [-0.0600,  0.0450, -0.0017,  ..., -0.0373,  0.0506, -0.0571]],\n",
      "       requires_grad=True)\n",
      "Parameter containing:\n",
      "tensor([0., 0., 0., 0., 0., 0., 0., 0., 0., 0., 0., 0., 0., 0., 0., 0., 0., 0., 0., 0., 0., 0., 0., 0.,\n",
      "        0.], requires_grad=True)\n",
      "Parameter containing:\n",
      "tensor([[-0.0077, -0.0539, -0.0246,  0.0073, -0.0527, -0.0962,  0.0313,  0.0098,\n",
      "          0.0217, -0.0454,  0.0817, -0.0057, -0.0456, -0.0948, -0.0906, -0.0951,\n",
      "          0.0429,  0.0705, -0.0342,  0.0075,  0.0896, -0.0236, -0.0243, -0.0061,\n",
      "          0.0949],\n",
      "        [-0.0462,  0.0459,  0.0094, -0.0583,  0.0322,  0.0161, -0.0446, -0.0255,\n",
      "          0.0351, -0.0153, -0.0781, -0.0982, -0.0819, -0.0365, -0.0851, -0.0749,\n",
      "          0.0216, -0.0482, -0.0338, -0.0619, -0.0918,  0.0795, -0.0425, -0.0185,\n",
      "         -0.0105],\n",
      "        [ 0.0358, -0.0407,  0.0445,  0.0889, -0.0198,  0.0582, -0.0534,  0.0423,\n",
      "         -0.0745,  0.0835,  0.0844,  0.0672,  0.0656, -0.0526, -0.0484, -0.0293,\n",
      "          0.0600,  0.0480, -0.0905, -0.0588, -0.0961, -0.0486,  0.0378, -0.0705,\n",
      "         -0.0173],\n",
      "        [-0.0440,  0.0840,  0.0861, -0.0772,  0.0220, -0.0227,  0.0236,  0.0808,\n",
      "          0.0736,  0.0901, -0.0080, -0.0918, -0.0898,  0.0237,  0.0833, -0.0669,\n",
      "          0.0682, -0.0750,  0.0834, -0.0266, -0.0945, -0.0247, -0.0217,  0.0841,\n",
      "         -0.0675],\n",
      "        [ 0.0795, -0.0539,  0.0426, -0.0446,  0.0200,  0.0864, -0.0866, -0.0898,\n",
      "          0.0857,  0.0637, -0.0692,  0.0189, -0.0535,  0.0663, -0.0611, -0.0773,\n",
      "         -0.0075,  0.0998,  0.0385, -0.0896, -0.0608, -0.0737,  0.0417,  0.0054,\n",
      "         -0.0782],\n",
      "        [-0.0427, -0.0916, -0.0682, -0.0085,  0.0507,  0.0102, -0.0942, -0.0222,\n",
      "         -0.0519, -0.0364, -0.0771,  0.0010,  0.0499, -0.0911,  0.0822,  0.0213,\n",
      "         -0.0008, -0.0556,  0.0992, -0.0634, -0.0538, -0.0647,  0.0272, -0.0061,\n",
      "         -0.0249],\n",
      "        [ 0.0066, -0.0533,  0.0638,  0.0913, -0.0844, -0.0612, -0.0794,  0.0706,\n",
      "         -0.0773,  0.0732,  0.0550, -0.0108, -0.0682,  0.0146,  0.0502, -0.0233,\n",
      "         -0.0414, -0.0441, -0.0090,  0.0110, -0.0173, -0.0222,  0.0248,  0.0645,\n",
      "          0.0367],\n",
      "        [-0.0170,  0.0006, -0.0803, -0.0763,  0.0429,  0.0023,  0.0971, -0.0366,\n",
      "         -0.0694, -0.0053,  0.0956,  0.0046, -0.0408,  0.0906, -0.0594, -0.0908,\n",
      "         -0.0020,  0.0184, -0.0198, -0.0963, -0.0580,  0.0655,  0.0374, -0.0035,\n",
      "         -0.0266],\n",
      "        [ 0.0909, -0.0953, -0.0376,  0.0003,  0.0083,  0.0273,  0.0402, -0.0939,\n",
      "          0.0542, -0.0479,  0.0290, -0.0455,  0.0987, -0.0664,  0.0296, -0.0307,\n",
      "          0.0289,  0.0891,  0.0756,  0.0798, -0.0782, -0.0670, -0.0767,  0.0983,\n",
      "         -0.0588],\n",
      "        [-0.0894, -0.0629,  0.0213,  0.0267,  0.0546, -0.0353, -0.0141,  0.0233,\n",
      "          0.0689, -0.0076,  0.0652, -0.0047, -0.0084, -0.0788, -0.0625, -0.0409,\n",
      "         -0.0855,  0.0598, -0.0949,  0.0126, -0.0626, -0.0931,  0.0304,  0.0649,\n",
      "          0.0328]], requires_grad=True)\n",
      "Parameter containing:\n",
      "tensor([0., 0., 0., 0., 0., 0., 0., 0., 0., 0.], requires_grad=True)\n",
      "\n",
      "----------------------------------------------------------------------------------------------------\n",
      "\n",
      "epoch no: 0 train_acc:  0.8832 test_acc 0.9144\n",
      "epoch no: 1 train_acc:  0.9231 test_acc 0.9272\n",
      "epoch no: 2 train_acc:  0.9293 test_acc 0.9246\n",
      "epoch no: 3 train_acc:  0.9337 test_acc 0.9294\n",
      "epoch no: 4 train_acc:  0.9377 test_acc 0.9329\n"
     ]
    },
    {
     "ename": "KeyboardInterrupt",
     "evalue": "",
     "output_type": "error",
     "traceback": [
      "\u001b[0;31m---------------------------------------------------------------------------\u001b[0m",
      "\u001b[0;31mKeyboardInterrupt\u001b[0m                         Traceback (most recent call last)",
      "Cell \u001b[0;32mIn[100], line 32\u001b[0m\n\u001b[1;32m     28\u001b[0m     correct_train_results \u001b[38;5;241m+\u001b[39m\u001b[38;5;241m=\u001b[39m \u001b[38;5;241m1\u001b[39m\n\u001b[1;32m     30\u001b[0m mnist\u001b[38;5;241m.\u001b[39mzero_grad()\n\u001b[0;32m---> 32\u001b[0m \u001b[43mloss\u001b[49m\u001b[38;5;241;43m.\u001b[39;49m\u001b[43mbackward\u001b[49m\u001b[43m(\u001b[49m\u001b[43m)\u001b[49m\n\u001b[1;32m     34\u001b[0m \u001b[38;5;28;01mwith\u001b[39;00m torch\u001b[38;5;241m.\u001b[39mno_grad():\n\u001b[1;32m     35\u001b[0m     \u001b[38;5;28;01mfor\u001b[39;00m param \u001b[38;5;129;01min\u001b[39;00m mnist\u001b[38;5;241m.\u001b[39mparameters():\n",
      "File \u001b[0;32m~/Desktop/dev/numpy/lib/python3.11/site-packages/torch/_tensor.py:522\u001b[0m, in \u001b[0;36mTensor.backward\u001b[0;34m(self, gradient, retain_graph, create_graph, inputs)\u001b[0m\n\u001b[1;32m    512\u001b[0m \u001b[38;5;28;01mif\u001b[39;00m has_torch_function_unary(\u001b[38;5;28mself\u001b[39m):\n\u001b[1;32m    513\u001b[0m     \u001b[38;5;28;01mreturn\u001b[39;00m handle_torch_function(\n\u001b[1;32m    514\u001b[0m         Tensor\u001b[38;5;241m.\u001b[39mbackward,\n\u001b[1;32m    515\u001b[0m         (\u001b[38;5;28mself\u001b[39m,),\n\u001b[0;32m   (...)\u001b[0m\n\u001b[1;32m    520\u001b[0m         inputs\u001b[38;5;241m=\u001b[39minputs,\n\u001b[1;32m    521\u001b[0m     )\n\u001b[0;32m--> 522\u001b[0m \u001b[43mtorch\u001b[49m\u001b[38;5;241;43m.\u001b[39;49m\u001b[43mautograd\u001b[49m\u001b[38;5;241;43m.\u001b[39;49m\u001b[43mbackward\u001b[49m\u001b[43m(\u001b[49m\n\u001b[1;32m    523\u001b[0m \u001b[43m    \u001b[49m\u001b[38;5;28;43mself\u001b[39;49m\u001b[43m,\u001b[49m\u001b[43m \u001b[49m\u001b[43mgradient\u001b[49m\u001b[43m,\u001b[49m\u001b[43m \u001b[49m\u001b[43mretain_graph\u001b[49m\u001b[43m,\u001b[49m\u001b[43m \u001b[49m\u001b[43mcreate_graph\u001b[49m\u001b[43m,\u001b[49m\u001b[43m \u001b[49m\u001b[43minputs\u001b[49m\u001b[38;5;241;43m=\u001b[39;49m\u001b[43minputs\u001b[49m\n\u001b[1;32m    524\u001b[0m \u001b[43m\u001b[49m\u001b[43m)\u001b[49m\n",
      "File \u001b[0;32m~/Desktop/dev/numpy/lib/python3.11/site-packages/torch/autograd/__init__.py:266\u001b[0m, in \u001b[0;36mbackward\u001b[0;34m(tensors, grad_tensors, retain_graph, create_graph, grad_variables, inputs)\u001b[0m\n\u001b[1;32m    261\u001b[0m     retain_graph \u001b[38;5;241m=\u001b[39m create_graph\n\u001b[1;32m    263\u001b[0m \u001b[38;5;66;03m# The reason we repeat the same comment below is that\u001b[39;00m\n\u001b[1;32m    264\u001b[0m \u001b[38;5;66;03m# some Python versions print out the first line of a multi-line function\u001b[39;00m\n\u001b[1;32m    265\u001b[0m \u001b[38;5;66;03m# calls in the traceback and some print out the last line\u001b[39;00m\n\u001b[0;32m--> 266\u001b[0m \u001b[43mVariable\u001b[49m\u001b[38;5;241;43m.\u001b[39;49m\u001b[43m_execution_engine\u001b[49m\u001b[38;5;241;43m.\u001b[39;49m\u001b[43mrun_backward\u001b[49m\u001b[43m(\u001b[49m\u001b[43m  \u001b[49m\u001b[38;5;66;43;03m# Calls into the C++ engine to run the backward pass\u001b[39;49;00m\n\u001b[1;32m    267\u001b[0m \u001b[43m    \u001b[49m\u001b[43mtensors\u001b[49m\u001b[43m,\u001b[49m\n\u001b[1;32m    268\u001b[0m \u001b[43m    \u001b[49m\u001b[43mgrad_tensors_\u001b[49m\u001b[43m,\u001b[49m\n\u001b[1;32m    269\u001b[0m \u001b[43m    \u001b[49m\u001b[43mretain_graph\u001b[49m\u001b[43m,\u001b[49m\n\u001b[1;32m    270\u001b[0m \u001b[43m    \u001b[49m\u001b[43mcreate_graph\u001b[49m\u001b[43m,\u001b[49m\n\u001b[1;32m    271\u001b[0m \u001b[43m    \u001b[49m\u001b[43minputs\u001b[49m\u001b[43m,\u001b[49m\n\u001b[1;32m    272\u001b[0m \u001b[43m    \u001b[49m\u001b[43mallow_unreachable\u001b[49m\u001b[38;5;241;43m=\u001b[39;49m\u001b[38;5;28;43;01mTrue\u001b[39;49;00m\u001b[43m,\u001b[49m\n\u001b[1;32m    273\u001b[0m \u001b[43m    \u001b[49m\u001b[43maccumulate_grad\u001b[49m\u001b[38;5;241;43m=\u001b[39;49m\u001b[38;5;28;43;01mTrue\u001b[39;49;00m\u001b[43m,\u001b[49m\n\u001b[1;32m    274\u001b[0m \u001b[43m\u001b[49m\u001b[43m)\u001b[49m\n",
      "\u001b[0;31mKeyboardInterrupt\u001b[0m: "
     ]
    }
   ],
   "source": [
    "#training\n",
    "EPOCHS = 20\n",
    "LEARNING_RATE = 0.01\n",
    "\n",
    "loss_fn = torch.nn.MSELoss(reduction='sum')\n",
    "\n",
    "torch.manual_seed(3)\n",
    "mnist = Mnist()\n",
    "\n",
    "#initialize weight and bias\n",
    "for module in mnist.modules():\n",
    "    if isinstance(module, nn.Linear):\n",
    "        nn.init.uniform_(module.weight, a=-0.1, b=0.1)\n",
    "        nn.init.constant_(module.bias, 0.0)\n",
    "\n",
    "print(mnist)\n",
    "print('\\n' + '-'*100 +'\\n')\n",
    "for param in mnist.parameters():\n",
    "    print(param)\n",
    "print('\\n' + '-'*100 +'\\n')\n",
    "\n",
    "for epoch in range(EPOCHS):\n",
    "    #train data \n",
    "    correct_train_results = 0\n",
    "    for x, y in data_gen(x_train, y_train):\n",
    "        y_pred = mnist(x)\n",
    "        loss = loss_fn(y_pred, y)\n",
    "\n",
    "        if y_pred.argmax() == y.argmax():\n",
    "            correct_train_results += 1\n",
    "\n",
    "        mnist.zero_grad()\n",
    "\n",
    "        loss.backward()\n",
    "\n",
    "        with torch.no_grad():\n",
    "            for param in mnist.parameters():\n",
    "                param -= LEARNING_RATE * param.grad\n",
    "\n",
    "    #validate with test data\n",
    "    correct_test_results = 0\n",
    "    for x, y in data_gen(x_test, y_test):\n",
    "        y_pred = mnist(x)\n",
    "        loss = loss_fn(y_pred, y)\n",
    "    \n",
    "        if y_pred.argmax() == y.argmax():\n",
    "            correct_test_results += 1\n",
    "\n",
    "    train_acc = correct_train_results/len(x_train)\n",
    "    test_acc = correct_test_results/len(x_test)\n",
    "    print('epoch no:', epoch, 'train_acc: ', f'{train_acc:6.4f}', 'test_acc', f'{test_acc:6.4f}')"
   ]
  },
  {
   "cell_type": "code",
   "execution_count": 120,
   "metadata": {},
   "outputs": [
    {
     "name": "stdout",
     "output_type": "stream",
     "text": [
      "tensor(3)\n"
     ]
    },
    {
     "data": {
      "text/plain": [
       "tensor(1)"
      ]
     },
     "execution_count": 120,
     "metadata": {},
     "output_type": "execute_result"
    }
   ],
   "source": [
    "y = torch.rand(10)\n",
    "x = y.argmax()\n",
    "print(x)\n",
    "\n",
    "x = torch.tensor([1,0,1,1])\n",
    "y = torch.tensor([0,1,1,0])\n",
    "\n",
    "(x == y).sum()"
   ]
  }
 ],
 "metadata": {
  "kernelspec": {
   "display_name": "numpy",
   "language": "python",
   "name": "python3"
  },
  "language_info": {
   "codemirror_mode": {
    "name": "ipython",
    "version": 3
   },
   "file_extension": ".py",
   "mimetype": "text/x-python",
   "name": "python",
   "nbconvert_exporter": "python",
   "pygments_lexer": "ipython3",
   "version": "3.11.5"
  }
 },
 "nbformat": 4,
 "nbformat_minor": 2
}
